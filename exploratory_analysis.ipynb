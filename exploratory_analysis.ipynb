{
 "metadata": {
  "language_info": {
   "codemirror_mode": {
    "name": "ipython",
    "version": 3
   },
   "file_extension": ".py",
   "mimetype": "text/x-python",
   "name": "python",
   "nbconvert_exporter": "python",
   "pygments_lexer": "ipython3",
   "version": "3.9.4"
  },
  "orig_nbformat": 2,
  "kernelspec": {
   "name": "python3",
   "display_name": "Python 3",
   "language": "python"
  }
 },
 "nbformat": 4,
 "nbformat_minor": 2,
 "cells": [
  {
   "cell_type": "code",
   "execution_count": 2,
   "metadata": {},
   "outputs": [],
   "source": [
    "import pandas as pd\n",
    "from el_credit_scorer import ELCreditScorer\n",
    "import matplotlib.pyplot as plt\n",
    "from lightgbm import LGBMClassifier\n",
    "from xgboost import XGBClassifier\n",
    "import seaborn as sns\n",
    "import warnings\n",
    "warnings.filterwarnings(\"ignore\")\n",
    "from collections import Counter"
   ]
  },
  {
   "cell_type": "code",
   "execution_count": 4,
   "metadata": {},
   "outputs": [
    {
     "output_type": "stream",
     "name": "stdout",
     "text": [
      "Counter({0: 139974, 1: 10026})\n"
     ]
    }
   ],
   "source": [
    "df = pd.read_csv('./data/cs-training.csv')\n",
    "counter = Counter(df.SeriousDlqin2yrs)\n",
    "print(counter)"
   ]
  },
  {
   "cell_type": "code",
   "execution_count": 5,
   "metadata": {},
   "outputs": [
    {
     "output_type": "error",
     "ename": "NameError",
     "evalue": "name 'CreditScorer' is not defined",
     "traceback": [
      "\u001b[0;31m---------------------------------------------------------------------------\u001b[0m",
      "\u001b[0;31mNameError\u001b[0m                                 Traceback (most recent call last)",
      "\u001b[0;32m<ipython-input-5-d8a50b2bc325>\u001b[0m in \u001b[0;36m<module>\u001b[0;34m\u001b[0m\n\u001b[0;32m----> 1\u001b[0;31m \u001b[0mcs_lgb\u001b[0m \u001b[0;34m=\u001b[0m \u001b[0mCreditScorer\u001b[0m\u001b[0;34m(\u001b[0m\u001b[0;34m)\u001b[0m\u001b[0;34m\u001b[0m\u001b[0;34m\u001b[0m\u001b[0m\n\u001b[0m\u001b[1;32m      2\u001b[0m \u001b[0mcs_lgb\u001b[0m\u001b[0;34m.\u001b[0m\u001b[0mtrain_classifier\u001b[0m\u001b[0;34m(\u001b[0m\u001b[0;34m\"./models/lgb.pkl\"\u001b[0m\u001b[0;34m,\u001b[0m\u001b[0mclassifier\u001b[0m \u001b[0;34m=\u001b[0m \u001b[0mLGBMClassifier\u001b[0m\u001b[0;34m(\u001b[0m\u001b[0;34m)\u001b[0m\u001b[0;34m)\u001b[0m\u001b[0;34m\u001b[0m\u001b[0;34m\u001b[0m\u001b[0m\n\u001b[1;32m      3\u001b[0m \u001b[0mcs_lgb\u001b[0m\u001b[0;34m.\u001b[0m\u001b[0mplot_feature_importance\u001b[0m\u001b[0;34m(\u001b[0m\u001b[0;34m)\u001b[0m\u001b[0;34m\u001b[0m\u001b[0;34m\u001b[0m\u001b[0m\n\u001b[1;32m      4\u001b[0m \u001b[0;34m\u001b[0m\u001b[0m\n\u001b[1;32m      5\u001b[0m \u001b[0mcs_xgb\u001b[0m \u001b[0;34m=\u001b[0m \u001b[0mCreditScorer\u001b[0m\u001b[0;34m(\u001b[0m\u001b[0;34m)\u001b[0m\u001b[0;34m\u001b[0m\u001b[0;34m\u001b[0m\u001b[0m\n",
      "\u001b[0;31mNameError\u001b[0m: name 'CreditScorer' is not defined"
     ]
    }
   ],
   "source": [
    "cs_lgb = ELCreditScorer()\n",
    "cs_lgb.train_classifier(\"./models/lgb.pkl\",classifier = LGBMClassifier())\n",
    "cs_lgb.plot_feature_importance()\n",
    "\n",
    "cs_xgb = ELCreditScorer()\n",
    "cs_xgb.train_classifier(\"./models/xgb.pkl\",classifier = XGBClassifier(scale_pos_weight =14))\n",
    "cs_xgb.plot_feature_importance()"
   ]
  },
  {
   "cell_type": "code",
   "execution_count": null,
   "metadata": {},
   "outputs": [],
   "source": [
    "sns.heatmap(df.corr(), square=True, cmap='RdYlGn')"
   ]
  },
  {
   "cell_type": "code",
   "execution_count": null,
   "metadata": {},
   "outputs": [],
   "source": [
    "num_columns = len(set(df.columns))\n",
    "fig, axes = plt.subplots(num_columns, 1, figsize=(12, 24))\n",
    "fig.tight_layout()\n",
    "\n",
    "for i, c in enumerate(df.columns.unique()):\n",
    "    for label in range(2):\n",
    "        values = df[c][df.SeriousDlqin2yrs == label].values\n",
    "        sns.distplot(values, ax=axes[i], label=label)\n",
    "    axes[i].legend(fontsize=6)\n",
    "    axes[i].set_title(c, fontsize=10)"
   ]
  }
 ]
}